{
 "cells": [
  {
   "cell_type": "code",
   "execution_count": null,
   "metadata": {},
   "outputs": [],
   "source": [
    "def fn(*args, **kwargs):\n",
    "    return args, kwargs\n",
    "\n",
    "# what will this return\n",
    "fn(1, 2, 3, four=4, five=5)"
   ]
  },
  {
   "cell_type": "code",
   "execution_count": null,
   "metadata": {},
   "outputs": [],
   "source": [
    "def for_else(iterations):\n",
    "    print(f\"\\n {iterations} iterations\")\n",
    "    for i in range(iterations):\n",
    "        if i is 1:\n",
    "            continue\n",
    "        if i is 5:\n",
    "            break\n",
    "        print(i)\n",
    "    else:\n",
    "        print(\"else\")\n",
    "\n",
    "# what will each call of for_else print?\n",
    "for_else(4)\n",
    "for_else(5)\n",
    "for_else(6)"
   ]
  },
  {
   "cell_type": "code",
   "execution_count": null,
   "metadata": {},
   "outputs": [],
   "source": [
    "class A:\n",
    "    a = 1\n",
    "\n",
    "a_obj = A()\n",
    "a_obj.a = 2\n",
    "b_obj = A()\n",
    "\n",
    "# what will these be?\n",
    "print(b_obj.a)\n",
    "print(A.a)"
   ]
  },
  {
   "cell_type": "code",
   "execution_count": null,
   "metadata": {},
   "outputs": [],
   "source": [
    "a = \"racecar\""
   ]
  },
  {
   "cell_type": "code",
   "execution_count": null,
   "metadata": {},
   "outputs": [],
   "source": [
    "# check if a is a palindrome\n"
   ]
  },
  {
   "cell_type": "code",
   "execution_count": null,
   "metadata": {},
   "outputs": [],
   "source": [
    "# count unique letters in a\n"
   ]
  },
  {
   "cell_type": "code",
   "execution_count": null,
   "metadata": {},
   "outputs": [],
   "source": [
    "lst = [1,2,2,4,5]"
   ]
  },
  {
   "cell_type": "code",
   "execution_count": null,
   "metadata": {},
   "outputs": [],
   "source": [
    "# sum elements in lst that aren't a duplicate\n"
   ]
  },
  {
   "cell_type": "code",
   "execution_count": null,
   "metadata": {},
   "outputs": [],
   "source": [
    "# say you've got a mapping of names and values, when accessing a mapping that hasn't been defined yet\n",
    "# what would you use to initialise it with a default value the first time it is accessed\n",
    "\n"
   ]
  },
  {
   "cell_type": "code",
   "execution_count": null,
   "metadata": {},
   "outputs": [],
   "source": [
    "#\n",
    "from collections import defaultdict\n",
    "\n",
    "mapping = defaultdict(int)\n",
    "\n",
    "mapping[\"a\"] = 1\n",
    "# what will the outputs be\n",
    "print(mapping[\"b\"])\n",
    "print(mapping)"
   ]
  },
  {
   "cell_type": "code",
   "execution_count": null,
   "metadata": {},
   "outputs": [],
   "source": [
    "# define a function that takes in a flat list, and returns a list of tuples pairs\n",
    "# so [1, 2, 3, 4, 5, 6] would return [(1, 2), (3, 4), (5, 6)]\n",
    "\n",
    "def pairs(lst):\n",
    "    ..."
   ]
  },
  {
   "cell_type": "code",
   "execution_count": null,
   "metadata": {},
   "outputs": [],
   "source": [
    "# find the longest common prefix in a list of strings\n",
    "# so [\"bread\", \"breath\", \"bright\"] would return \"br\"\n",
    "\n",
    "\n",
    "def longest_common_prefix(strings):\n",
    "    ..."
   ]
  }
 ],
 "metadata": {
  "interpreter": {
   "hash": "8053e1d2c1f58aba74999bacf83a242456aa3559254354dc2e6533888d30bad2"
  },
  "kernelspec": {
   "display_name": "Python 3.6.7 64-bit (system)",
   "language": "python",
   "name": "python3"
  },
  "language_info": {
   "codemirror_mode": {
    "name": "ipython",
    "version": 3
   },
   "file_extension": ".py",
   "mimetype": "text/x-python",
   "name": "python",
   "nbconvert_exporter": "python",
   "pygments_lexer": "ipython3",
   "version": "3.6.7"
  },
  "orig_nbformat": 4
 },
 "nbformat": 4,
 "nbformat_minor": 2
}
